{
 "cells": [
  {
   "cell_type": "markdown",
   "metadata": {},
   "source": [
    "# Import Libraries"
   ]
  },
  {
   "cell_type": "code",
   "execution_count": 1,
   "metadata": {
    "ExecuteTime": {
     "end_time": "2019-12-28T22:31:07.876621Z",
     "start_time": "2019-12-28T22:31:04.980568Z"
    }
   },
   "outputs": [],
   "source": [
    "from urllib.request import urlopen\n",
    "from bs4 import BeautifulSoup\n",
    "import pandas as pd"
   ]
  },
  {
   "cell_type": "markdown",
   "metadata": {},
   "source": [
    "# Import webpage"
   ]
  },
  {
   "cell_type": "code",
   "execution_count": 2,
   "metadata": {
    "ExecuteTime": {
     "end_time": "2019-12-28T22:31:10.485690Z",
     "start_time": "2019-12-28T22:31:09.300620Z"
    }
   },
   "outputs": [],
   "source": [
    "# Import the website url you want to scrape\n",
    "url = \"http://www.hubertiming.com/results/2017GPTR10K\"\n",
    "html = urlopen(url)"
   ]
  },
  {
   "cell_type": "markdown",
   "metadata": {},
   "source": [
    "This is a screenshot of the table : \n",
    "![img1](Images/img1.png)"
   ]
  },
  {
   "cell_type": "markdown",
   "metadata": {},
   "source": [
    "# Scrap the desired table"
   ]
  },
  {
   "cell_type": "code",
   "execution_count": 3,
   "metadata": {
    "ExecuteTime": {
     "end_time": "2019-12-28T22:31:16.586495Z",
     "start_time": "2019-12-28T22:31:11.544628Z"
    }
   },
   "outputs": [],
   "source": [
    "soup = BeautifulSoup(html, 'lxml')"
   ]
  },
  {
   "cell_type": "code",
   "execution_count": 11,
   "metadata": {
    "ExecuteTime": {
     "end_time": "2019-12-28T22:35:36.960085Z",
     "start_time": "2019-12-28T22:35:36.954701Z"
    },
    "scrolled": true
   },
   "outputs": [],
   "source": [
    "table = soup.find('table', attrs={'id': 'individualResults'})\n",
    "\n",
    "#print(table)"
   ]
  },
  {
   "cell_type": "code",
   "execution_count": 12,
   "metadata": {
    "ExecuteTime": {
     "end_time": "2019-12-28T22:35:38.983880Z",
     "start_time": "2019-12-28T22:35:38.965886Z"
    }
   },
   "outputs": [
    {
     "name": "stdout",
     "output_type": "stream",
     "text": [
      "['Place', 'Bib', 'Name', 'Gender', 'City', 'State', 'Chip Time', 'Chip Pace', 'Gender Place', 'Age Group', 'Age Group Place', 'Time to Start', 'Gun Time', 'Team']\n"
     ]
    }
   ],
   "source": [
    "columns = table.find_all('th')\n",
    "col = []\n",
    "\n",
    "for item in columns:\n",
    "    col.append(item.text)\n",
    "    \n",
    "print(col)"
   ]
  },
  {
   "cell_type": "code",
   "execution_count": 14,
   "metadata": {
    "ExecuteTime": {
     "end_time": "2019-12-28T22:35:48.553954Z",
     "start_time": "2019-12-28T22:35:48.509404Z"
    }
   },
   "outputs": [],
   "source": [
    "table_rows = table.find_all('tr')\n",
    "rows = []\n",
    "\n",
    "for tr in table_rows:\n",
    "    td = tr.find_all('td')\n",
    "    row = [i.text for i in td]\n",
    "    rows.append(row)\n",
    "\n",
    "#print(rows)"
   ]
  },
  {
   "cell_type": "code",
   "execution_count": 15,
   "metadata": {
    "ExecuteTime": {
     "end_time": "2019-12-28T22:35:50.477536Z",
     "start_time": "2019-12-28T22:35:50.428207Z"
    }
   },
   "outputs": [
    {
     "data": {
      "text/html": [
       "<div>\n",
       "<style scoped>\n",
       "    .dataframe tbody tr th:only-of-type {\n",
       "        vertical-align: middle;\n",
       "    }\n",
       "\n",
       "    .dataframe tbody tr th {\n",
       "        vertical-align: top;\n",
       "    }\n",
       "\n",
       "    .dataframe thead th {\n",
       "        text-align: right;\n",
       "    }\n",
       "</style>\n",
       "<table border=\"1\" class=\"dataframe\">\n",
       "  <thead>\n",
       "    <tr style=\"text-align: right;\">\n",
       "      <th></th>\n",
       "      <th>Place</th>\n",
       "      <th>Bib</th>\n",
       "      <th>Name</th>\n",
       "      <th>Gender</th>\n",
       "      <th>City</th>\n",
       "      <th>State</th>\n",
       "      <th>Chip Time</th>\n",
       "      <th>Chip Pace</th>\n",
       "      <th>Gender Place</th>\n",
       "      <th>Age Group</th>\n",
       "      <th>Age Group Place</th>\n",
       "      <th>Time to Start</th>\n",
       "      <th>Gun Time</th>\n",
       "      <th>Team</th>\n",
       "    </tr>\n",
       "  </thead>\n",
       "  <tbody>\n",
       "    <tr>\n",
       "      <td>0</td>\n",
       "      <td>None</td>\n",
       "      <td>None</td>\n",
       "      <td>None</td>\n",
       "      <td>None</td>\n",
       "      <td>None</td>\n",
       "      <td>None</td>\n",
       "      <td>None</td>\n",
       "      <td>None</td>\n",
       "      <td>None</td>\n",
       "      <td>None</td>\n",
       "      <td>None</td>\n",
       "      <td>None</td>\n",
       "      <td>None</td>\n",
       "      <td>None</td>\n",
       "    </tr>\n",
       "    <tr>\n",
       "      <td>1</td>\n",
       "      <td>1</td>\n",
       "      <td>814</td>\n",
       "      <td>JARED WILSON</td>\n",
       "      <td>M</td>\n",
       "      <td>TIGARD</td>\n",
       "      <td>OR</td>\n",
       "      <td>36:21</td>\n",
       "      <td>5:51</td>\n",
       "      <td>1 of 414</td>\n",
       "      <td>M 36-45</td>\n",
       "      <td>1 of 152</td>\n",
       "      <td>0:03</td>\n",
       "      <td>36:24</td>\n",
       "      <td></td>\n",
       "    </tr>\n",
       "    <tr>\n",
       "      <td>2</td>\n",
       "      <td>2</td>\n",
       "      <td>573</td>\n",
       "      <td>NATHAN A SUSTERSIC</td>\n",
       "      <td>M</td>\n",
       "      <td>PORTLAND</td>\n",
       "      <td>OR</td>\n",
       "      <td>36:42</td>\n",
       "      <td>5:55</td>\n",
       "      <td>2 of 414</td>\n",
       "      <td>M 26-35</td>\n",
       "      <td>1 of 154</td>\n",
       "      <td>0:03</td>\n",
       "      <td>36:45</td>\n",
       "      <td>\\r\\n                                          ...</td>\n",
       "    </tr>\n",
       "    <tr>\n",
       "      <td>3</td>\n",
       "      <td>3</td>\n",
       "      <td>687</td>\n",
       "      <td>FRANCISCO MAYA</td>\n",
       "      <td>M</td>\n",
       "      <td>PORTLAND</td>\n",
       "      <td>OR</td>\n",
       "      <td>37:44</td>\n",
       "      <td>6:05</td>\n",
       "      <td>3 of 414</td>\n",
       "      <td>M 46-55</td>\n",
       "      <td>1 of 64</td>\n",
       "      <td>0:04</td>\n",
       "      <td>37:48</td>\n",
       "      <td></td>\n",
       "    </tr>\n",
       "    <tr>\n",
       "      <td>4</td>\n",
       "      <td>4</td>\n",
       "      <td>623</td>\n",
       "      <td>PAUL MORROW</td>\n",
       "      <td>M</td>\n",
       "      <td>BEAVERTON</td>\n",
       "      <td>OR</td>\n",
       "      <td>38:34</td>\n",
       "      <td>6:13</td>\n",
       "      <td>4 of 414</td>\n",
       "      <td>M 36-45</td>\n",
       "      <td>2 of 152</td>\n",
       "      <td>0:03</td>\n",
       "      <td>38:37</td>\n",
       "      <td></td>\n",
       "    </tr>\n",
       "  </tbody>\n",
       "</table>\n",
       "</div>"
      ],
      "text/plain": [
       "  Place   Bib                Name Gender       City State Chip Time Chip Pace  \\\n",
       "0  None  None                None   None       None  None      None      None   \n",
       "1     1   814        JARED WILSON      M     TIGARD    OR     36:21      5:51   \n",
       "2     2   573  NATHAN A SUSTERSIC      M   PORTLAND    OR     36:42      5:55   \n",
       "3     3   687      FRANCISCO MAYA      M   PORTLAND    OR     37:44      6:05   \n",
       "4     4   623         PAUL MORROW      M  BEAVERTON    OR     38:34      6:13   \n",
       "\n",
       "  Gender Place Age Group Age Group Place Time to Start Gun Time  \\\n",
       "0         None      None            None          None     None   \n",
       "1     1 of 414   M 36-45        1 of 152          0:03    36:24   \n",
       "2     2 of 414   M 26-35        1 of 154          0:03    36:45   \n",
       "3     3 of 414   M 46-55         1 of 64          0:04    37:48   \n",
       "4     4 of 414   M 36-45        2 of 152          0:03    38:37   \n",
       "\n",
       "                                                Team  \n",
       "0                                               None  \n",
       "1                                                     \n",
       "2  \\r\\n                                          ...  \n",
       "3                                                     \n",
       "4                                                     "
      ]
     },
     "metadata": {},
     "output_type": "display_data"
    }
   ],
   "source": [
    "df = pd.DataFrame(rows, columns=col)\n",
    "display(df.head())"
   ]
  },
  {
   "cell_type": "code",
   "execution_count": 16,
   "metadata": {
    "ExecuteTime": {
     "end_time": "2019-12-28T22:35:52.952102Z",
     "start_time": "2019-12-28T22:35:52.938581Z"
    },
    "scrolled": true
   },
   "outputs": [],
   "source": [
    "df.drop(index=0, inplace=True)\n",
    "df.reset_index(inplace=True, drop=True)"
   ]
  },
  {
   "cell_type": "code",
   "execution_count": 17,
   "metadata": {
    "ExecuteTime": {
     "end_time": "2019-12-28T22:35:53.366219Z",
     "start_time": "2019-12-28T22:35:53.349742Z"
    }
   },
   "outputs": [
    {
     "data": {
      "text/html": [
       "<div>\n",
       "<style scoped>\n",
       "    .dataframe tbody tr th:only-of-type {\n",
       "        vertical-align: middle;\n",
       "    }\n",
       "\n",
       "    .dataframe tbody tr th {\n",
       "        vertical-align: top;\n",
       "    }\n",
       "\n",
       "    .dataframe thead th {\n",
       "        text-align: right;\n",
       "    }\n",
       "</style>\n",
       "<table border=\"1\" class=\"dataframe\">\n",
       "  <thead>\n",
       "    <tr style=\"text-align: right;\">\n",
       "      <th></th>\n",
       "      <th>Place</th>\n",
       "      <th>Bib</th>\n",
       "      <th>Name</th>\n",
       "      <th>Gender</th>\n",
       "      <th>City</th>\n",
       "      <th>State</th>\n",
       "      <th>Chip Time</th>\n",
       "      <th>Chip Pace</th>\n",
       "      <th>Gender Place</th>\n",
       "      <th>Age Group</th>\n",
       "      <th>Age Group Place</th>\n",
       "      <th>Time to Start</th>\n",
       "      <th>Gun Time</th>\n",
       "      <th>Team</th>\n",
       "    </tr>\n",
       "  </thead>\n",
       "  <tbody>\n",
       "    <tr>\n",
       "      <td>0</td>\n",
       "      <td>1</td>\n",
       "      <td>814</td>\n",
       "      <td>JARED WILSON</td>\n",
       "      <td>M</td>\n",
       "      <td>TIGARD</td>\n",
       "      <td>OR</td>\n",
       "      <td>36:21</td>\n",
       "      <td>5:51</td>\n",
       "      <td>1 of 414</td>\n",
       "      <td>M 36-45</td>\n",
       "      <td>1 of 152</td>\n",
       "      <td>0:03</td>\n",
       "      <td>36:24</td>\n",
       "      <td></td>\n",
       "    </tr>\n",
       "    <tr>\n",
       "      <td>1</td>\n",
       "      <td>2</td>\n",
       "      <td>573</td>\n",
       "      <td>NATHAN A SUSTERSIC</td>\n",
       "      <td>M</td>\n",
       "      <td>PORTLAND</td>\n",
       "      <td>OR</td>\n",
       "      <td>36:42</td>\n",
       "      <td>5:55</td>\n",
       "      <td>2 of 414</td>\n",
       "      <td>M 26-35</td>\n",
       "      <td>1 of 154</td>\n",
       "      <td>0:03</td>\n",
       "      <td>36:45</td>\n",
       "      <td>\\r\\n                                          ...</td>\n",
       "    </tr>\n",
       "    <tr>\n",
       "      <td>2</td>\n",
       "      <td>3</td>\n",
       "      <td>687</td>\n",
       "      <td>FRANCISCO MAYA</td>\n",
       "      <td>M</td>\n",
       "      <td>PORTLAND</td>\n",
       "      <td>OR</td>\n",
       "      <td>37:44</td>\n",
       "      <td>6:05</td>\n",
       "      <td>3 of 414</td>\n",
       "      <td>M 46-55</td>\n",
       "      <td>1 of 64</td>\n",
       "      <td>0:04</td>\n",
       "      <td>37:48</td>\n",
       "      <td></td>\n",
       "    </tr>\n",
       "    <tr>\n",
       "      <td>3</td>\n",
       "      <td>4</td>\n",
       "      <td>623</td>\n",
       "      <td>PAUL MORROW</td>\n",
       "      <td>M</td>\n",
       "      <td>BEAVERTON</td>\n",
       "      <td>OR</td>\n",
       "      <td>38:34</td>\n",
       "      <td>6:13</td>\n",
       "      <td>4 of 414</td>\n",
       "      <td>M 36-45</td>\n",
       "      <td>2 of 152</td>\n",
       "      <td>0:03</td>\n",
       "      <td>38:37</td>\n",
       "      <td></td>\n",
       "    </tr>\n",
       "    <tr>\n",
       "      <td>4</td>\n",
       "      <td>5</td>\n",
       "      <td>569</td>\n",
       "      <td>DEREK G OSBORNE</td>\n",
       "      <td>M</td>\n",
       "      <td>HILLSBORO</td>\n",
       "      <td>OR</td>\n",
       "      <td>39:21</td>\n",
       "      <td>6:20</td>\n",
       "      <td>5 of 414</td>\n",
       "      <td>M 26-35</td>\n",
       "      <td>2 of 154</td>\n",
       "      <td>0:03</td>\n",
       "      <td>39:24</td>\n",
       "      <td>\\r\\n                                          ...</td>\n",
       "    </tr>\n",
       "  </tbody>\n",
       "</table>\n",
       "</div>"
      ],
      "text/plain": [
       "  Place  Bib                Name Gender       City State Chip Time Chip Pace  \\\n",
       "0     1  814        JARED WILSON      M     TIGARD    OR     36:21      5:51   \n",
       "1     2  573  NATHAN A SUSTERSIC      M   PORTLAND    OR     36:42      5:55   \n",
       "2     3  687      FRANCISCO MAYA      M   PORTLAND    OR     37:44      6:05   \n",
       "3     4  623         PAUL MORROW      M  BEAVERTON    OR     38:34      6:13   \n",
       "4     5  569     DEREK G OSBORNE      M  HILLSBORO    OR     39:21      6:20   \n",
       "\n",
       "  Gender Place Age Group Age Group Place Time to Start Gun Time  \\\n",
       "0     1 of 414   M 36-45        1 of 152          0:03    36:24   \n",
       "1     2 of 414   M 26-35        1 of 154          0:03    36:45   \n",
       "2     3 of 414   M 46-55         1 of 64          0:04    37:48   \n",
       "3     4 of 414   M 36-45        2 of 152          0:03    38:37   \n",
       "4     5 of 414   M 26-35        2 of 154          0:03    39:24   \n",
       "\n",
       "                                                Team  \n",
       "0                                                     \n",
       "1  \\r\\n                                          ...  \n",
       "2                                                     \n",
       "3                                                     \n",
       "4  \\r\\n                                          ...  "
      ]
     },
     "metadata": {},
     "output_type": "display_data"
    }
   ],
   "source": [
    "display(df.head())"
   ]
  },
  {
   "cell_type": "code",
   "execution_count": null,
   "metadata": {},
   "outputs": [],
   "source": []
  }
 ],
 "metadata": {
  "kernelspec": {
   "display_name": "Python 3",
   "language": "python",
   "name": "python3"
  },
  "language_info": {
   "codemirror_mode": {
    "name": "ipython",
    "version": 3
   },
   "file_extension": ".py",
   "mimetype": "text/x-python",
   "name": "python",
   "nbconvert_exporter": "python",
   "pygments_lexer": "ipython3",
   "version": "3.7.4"
  },
  "toc": {
   "base_numbering": 1,
   "nav_menu": {},
   "number_sections": true,
   "sideBar": true,
   "skip_h1_title": false,
   "title_cell": "Table of Contents",
   "title_sidebar": "Contents",
   "toc_cell": false,
   "toc_position": {},
   "toc_section_display": true,
   "toc_window_display": true
  }
 },
 "nbformat": 4,
 "nbformat_minor": 2
}

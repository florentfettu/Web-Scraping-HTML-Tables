{
 "cells": [
  {
   "cell_type": "markdown",
   "metadata": {},
   "source": [
    "# Import Libraries"
   ]
  },
  {
   "cell_type": "code",
   "execution_count": 79,
   "metadata": {
    "ExecuteTime": {
     "end_time": "2019-12-28T22:58:26.809757Z",
     "start_time": "2019-12-28T22:58:26.803290Z"
    }
   },
   "outputs": [],
   "source": [
    "from urllib.request import urlopen\n",
    "from bs4 import BeautifulSoup\n",
    "import pandas as pd"
   ]
  },
  {
   "cell_type": "markdown",
   "metadata": {},
   "source": [
    "# Import webpage"
   ]
  },
  {
   "cell_type": "code",
   "execution_count": 80,
   "metadata": {
    "ExecuteTime": {
     "end_time": "2019-12-28T22:58:27.522004Z",
     "start_time": "2019-12-28T22:58:27.196984Z"
    }
   },
   "outputs": [],
   "source": [
    "url = 'https://www.theguardian.com/sport/datablog/2012/jun/25/olympic-medal-winner-list-data'\n",
    "html = urlopen(url)"
   ]
  },
  {
   "cell_type": "markdown",
   "metadata": {},
   "source": [
    "This is a screenshot of the table :\n",
    "![img2](Images/img2.png)"
   ]
  },
  {
   "cell_type": "markdown",
   "metadata": {},
   "source": [
    "# Scrap the desired table"
   ]
  },
  {
   "cell_type": "code",
   "execution_count": 81,
   "metadata": {
    "ExecuteTime": {
     "end_time": "2019-12-28T22:58:28.122073Z",
     "start_time": "2019-12-28T22:58:28.033343Z"
    }
   },
   "outputs": [],
   "source": [
    "soup = BeautifulSoup(html, 'lxml')"
   ]
  },
  {
   "cell_type": "code",
   "execution_count": 82,
   "metadata": {
    "ExecuteTime": {
     "end_time": "2019-12-28T22:58:28.267551Z",
     "start_time": "2019-12-28T22:58:28.262027Z"
    }
   },
   "outputs": [],
   "source": [
    "table = soup.find('table')\n",
    "#print(table)"
   ]
  },
  {
   "cell_type": "code",
   "execution_count": 83,
   "metadata": {
    "ExecuteTime": {
     "end_time": "2019-12-28T22:58:28.652274Z",
     "start_time": "2019-12-28T22:58:28.641461Z"
    }
   },
   "outputs": [
    {
     "name": "stdout",
     "output_type": "stream",
     "text": [
      "Before: ['\\n\\nAthlete\\n ', '\\n\\nCountry\\n ', '\\n\\nBronze\\n ', '\\n\\nSilver\\n ', '\\n\\nGold\\n ', '\\n\\nGrand Total\\n ']\n",
      "After: ['Athlete', 'Country', 'Bronze', 'Silver', 'Gold', 'GrandTotal']\n"
     ]
    }
   ],
   "source": [
    "columns = table.find_all('th')\n",
    "col = []\n",
    "\n",
    "for item in columns:\n",
    "    col.append(item.text)\n",
    "    \n",
    "print(f'Before: {col}')\n",
    "\n",
    "col = [x.replace('\\n', '').replace(' ', '') for x in col]\n",
    "\n",
    "print(f'After: {col}')"
   ]
  },
  {
   "cell_type": "code",
   "execution_count": 84,
   "metadata": {
    "ExecuteTime": {
     "end_time": "2019-12-28T22:58:29.694530Z",
     "start_time": "2019-12-28T22:58:29.679024Z"
    }
   },
   "outputs": [],
   "source": [
    "table_rows = table.find_all('tr')\n",
    "rows = []\n",
    "\n",
    "for tr in table_rows:\n",
    "    td = tr.find_all('td')\n",
    "    row = [i.text for i in td]\n",
    "    rows.append(row)\n",
    "\n",
    "#print(rows)\n",
    "\n",
    "#rows = [x.replace('\\xa0', '').replace(' ', '') for x in rows]"
   ]
  },
  {
   "cell_type": "code",
   "execution_count": 85,
   "metadata": {
    "ExecuteTime": {
     "end_time": "2019-12-28T22:58:30.043839Z",
     "start_time": "2019-12-28T22:58:30.030826Z"
    }
   },
   "outputs": [
    {
     "data": {
      "text/html": [
       "<div>\n",
       "<style scoped>\n",
       "    .dataframe tbody tr th:only-of-type {\n",
       "        vertical-align: middle;\n",
       "    }\n",
       "\n",
       "    .dataframe tbody tr th {\n",
       "        vertical-align: top;\n",
       "    }\n",
       "\n",
       "    .dataframe thead th {\n",
       "        text-align: right;\n",
       "    }\n",
       "</style>\n",
       "<table border=\"1\" class=\"dataframe\">\n",
       "  <thead>\n",
       "    <tr style=\"text-align: right;\">\n",
       "      <th></th>\n",
       "      <th>Athlete</th>\n",
       "      <th>Country</th>\n",
       "      <th>Bronze</th>\n",
       "      <th>Silver</th>\n",
       "      <th>Gold</th>\n",
       "      <th>GrandTotal</th>\n",
       "    </tr>\n",
       "  </thead>\n",
       "  <tbody>\n",
       "    <tr>\n",
       "      <td>0</td>\n",
       "      <td>None</td>\n",
       "      <td>None</td>\n",
       "      <td>None</td>\n",
       "      <td>None</td>\n",
       "      <td>None</td>\n",
       "      <td>None</td>\n",
       "    </tr>\n",
       "    <tr>\n",
       "      <td>1</td>\n",
       "      <td>\\n\\n\\nSOURCE: IOC\\n\\n</td>\n",
       "      <td>None</td>\n",
       "      <td>None</td>\n",
       "      <td>None</td>\n",
       "      <td>None</td>\n",
       "      <td>None</td>\n",
       "    </tr>\n",
       "    <tr>\n",
       "      <td>2</td>\n",
       "      <td>LATYNINA, Larisa</td>\n",
       "      <td>Soviet Union</td>\n",
       "      <td>4</td>\n",
       "      <td>5</td>\n",
       "      <td>9</td>\n",
       "      <td>18</td>\n",
       "    </tr>\n",
       "    <tr>\n",
       "      <td>3</td>\n",
       "      <td>PHELPS, Michael</td>\n",
       "      <td>United States</td>\n",
       "      <td>2</td>\n",
       "      <td></td>\n",
       "      <td>14</td>\n",
       "      <td>16</td>\n",
       "    </tr>\n",
       "    <tr>\n",
       "      <td>4</td>\n",
       "      <td>ANDRIANOV, Nikolay</td>\n",
       "      <td>Soviet Union</td>\n",
       "      <td>3</td>\n",
       "      <td>5</td>\n",
       "      <td>7</td>\n",
       "      <td>15</td>\n",
       "    </tr>\n",
       "  </tbody>\n",
       "</table>\n",
       "</div>"
      ],
      "text/plain": [
       "                  Athlete          Country Bronze Silver  Gold GrandTotal\n",
       "0                    None             None   None   None  None       None\n",
       "1  \\n\\n\\nSOURCE: IOC\\n\\n              None   None   None  None       None\n",
       "2       LATYNINA, Larisa     Soviet Union      4      5     9         18 \n",
       "3        PHELPS, Michael    United States      2           14         16 \n",
       "4     ANDRIANOV, Nikolay     Soviet Union      3      5     7         15 "
      ]
     },
     "metadata": {},
     "output_type": "display_data"
    }
   ],
   "source": [
    "df = pd.DataFrame(rows, columns=col)\n",
    "display(df.head())"
   ]
  },
  {
   "cell_type": "code",
   "execution_count": 86,
   "metadata": {
    "ExecuteTime": {
     "end_time": "2019-12-28T22:58:31.310081Z",
     "start_time": "2019-12-28T22:58:31.302888Z"
    }
   },
   "outputs": [],
   "source": [
    "df.drop(index=[0,1], inplace=True)\n",
    "df.reset_index(inplace=True, drop=True)\n",
    "df.replace('\\xa0', '0', inplace=True)"
   ]
  },
  {
   "cell_type": "code",
   "execution_count": 87,
   "metadata": {
    "ExecuteTime": {
     "end_time": "2019-12-28T22:58:32.075548Z",
     "start_time": "2019-12-28T22:58:32.064299Z"
    }
   },
   "outputs": [
    {
     "data": {
      "text/html": [
       "<div>\n",
       "<style scoped>\n",
       "    .dataframe tbody tr th:only-of-type {\n",
       "        vertical-align: middle;\n",
       "    }\n",
       "\n",
       "    .dataframe tbody tr th {\n",
       "        vertical-align: top;\n",
       "    }\n",
       "\n",
       "    .dataframe thead th {\n",
       "        text-align: right;\n",
       "    }\n",
       "</style>\n",
       "<table border=\"1\" class=\"dataframe\">\n",
       "  <thead>\n",
       "    <tr style=\"text-align: right;\">\n",
       "      <th></th>\n",
       "      <th>Athlete</th>\n",
       "      <th>Country</th>\n",
       "      <th>Bronze</th>\n",
       "      <th>Silver</th>\n",
       "      <th>Gold</th>\n",
       "      <th>GrandTotal</th>\n",
       "    </tr>\n",
       "  </thead>\n",
       "  <tbody>\n",
       "    <tr>\n",
       "      <td>0</td>\n",
       "      <td>LATYNINA, Larisa</td>\n",
       "      <td>Soviet Union</td>\n",
       "      <td>4</td>\n",
       "      <td>5</td>\n",
       "      <td>9</td>\n",
       "      <td>18</td>\n",
       "    </tr>\n",
       "    <tr>\n",
       "      <td>1</td>\n",
       "      <td>PHELPS, Michael</td>\n",
       "      <td>United States</td>\n",
       "      <td>2</td>\n",
       "      <td>0</td>\n",
       "      <td>14</td>\n",
       "      <td>16</td>\n",
       "    </tr>\n",
       "    <tr>\n",
       "      <td>2</td>\n",
       "      <td>ANDRIANOV, Nikolay</td>\n",
       "      <td>Soviet Union</td>\n",
       "      <td>3</td>\n",
       "      <td>5</td>\n",
       "      <td>7</td>\n",
       "      <td>15</td>\n",
       "    </tr>\n",
       "    <tr>\n",
       "      <td>3</td>\n",
       "      <td>MANGIAROTTI, Edoardo</td>\n",
       "      <td>Italy</td>\n",
       "      <td>2</td>\n",
       "      <td>5</td>\n",
       "      <td>6</td>\n",
       "      <td>13</td>\n",
       "    </tr>\n",
       "    <tr>\n",
       "      <td>4</td>\n",
       "      <td>ONO, Takashi</td>\n",
       "      <td>Japan</td>\n",
       "      <td>4</td>\n",
       "      <td>4</td>\n",
       "      <td>5</td>\n",
       "      <td>13</td>\n",
       "    </tr>\n",
       "  </tbody>\n",
       "</table>\n",
       "</div>"
      ],
      "text/plain": [
       "                  Athlete          Country Bronze Silver  Gold GrandTotal\n",
       "0       LATYNINA, Larisa     Soviet Union      4      5     9         18 \n",
       "1        PHELPS, Michael    United States      2       0   14         16 \n",
       "2     ANDRIANOV, Nikolay     Soviet Union      3      5     7         15 \n",
       "3   MANGIAROTTI, Edoardo            Italy      2      5     6         13 \n",
       "4           ONO, Takashi            Japan      4      4     5         13 "
      ]
     },
     "metadata": {},
     "output_type": "display_data"
    }
   ],
   "source": [
    "display(df.head())"
   ]
  },
  {
   "cell_type": "code",
   "execution_count": 88,
   "metadata": {
    "ExecuteTime": {
     "end_time": "2019-12-28T22:58:32.842084Z",
     "start_time": "2019-12-28T22:58:32.834956Z"
    }
   },
   "outputs": [
    {
     "data": {
      "text/plain": [
       "array([' LATYNINA, Larisa ', ' PHELPS, Michael ', ' ANDRIANOV, Nikolay ',\n",
       "       ' MANGIAROTTI, Edoardo ', ' ONO, Takashi '], dtype=object)"
      ]
     },
     "metadata": {},
     "output_type": "display_data"
    }
   ],
   "source": [
    "# There are spaces before and after all the values in our dataframe\n",
    "display(df[:5].Athlete.unique())"
   ]
  },
  {
   "cell_type": "code",
   "execution_count": 89,
   "metadata": {
    "ExecuteTime": {
     "end_time": "2019-12-28T22:58:39.867150Z",
     "start_time": "2019-12-28T22:58:39.859422Z"
    }
   },
   "outputs": [],
   "source": [
    "# Delete spaces before and after all the values\n",
    "for i in df.columns:\n",
    "    df[i] = df[i].str.strip()"
   ]
  },
  {
   "cell_type": "code",
   "execution_count": 90,
   "metadata": {
    "ExecuteTime": {
     "end_time": "2019-12-28T22:58:40.781210Z",
     "start_time": "2019-12-28T22:58:40.773568Z"
    }
   },
   "outputs": [
    {
     "data": {
      "text/plain": [
       "array(['LATYNINA, Larisa', 'PHELPS, Michael', 'ANDRIANOV, Nikolay',\n",
       "       'MANGIAROTTI, Edoardo', 'ONO, Takashi'], dtype=object)"
      ]
     },
     "metadata": {},
     "output_type": "display_data"
    }
   ],
   "source": [
    "# Display the result for the first five athletes\n",
    "display(df[:5].Athlete.unique())"
   ]
  },
  {
   "cell_type": "code",
   "execution_count": null,
   "metadata": {},
   "outputs": [],
   "source": []
  }
 ],
 "metadata": {
  "kernelspec": {
   "display_name": "Python 3",
   "language": "python",
   "name": "python3"
  },
  "language_info": {
   "codemirror_mode": {
    "name": "ipython",
    "version": 3
   },
   "file_extension": ".py",
   "mimetype": "text/x-python",
   "name": "python",
   "nbconvert_exporter": "python",
   "pygments_lexer": "ipython3",
   "version": "3.7.4"
  },
  "toc": {
   "base_numbering": 1,
   "nav_menu": {},
   "number_sections": true,
   "sideBar": true,
   "skip_h1_title": false,
   "title_cell": "Table of Contents",
   "title_sidebar": "Contents",
   "toc_cell": false,
   "toc_position": {},
   "toc_section_display": true,
   "toc_window_display": false
  }
 },
 "nbformat": 4,
 "nbformat_minor": 2
}
